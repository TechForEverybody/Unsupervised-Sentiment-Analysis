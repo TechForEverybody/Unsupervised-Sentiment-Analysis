{
 "cells": [
  {
   "cell_type": "code",
   "execution_count": 85,
   "id": "developmental-southwest",
   "metadata": {},
   "outputs": [],
   "source": [
    "import numpy\n",
    "import pandas\n",
    "import matplotlib.pyplot as pyplot\n",
    "import seaborn\n",
    "import nltk\n",
    "from nltk.corpus import stopwords\n",
    "from nltk.stem import WordNetLemmatizer\n",
    "import re\n",
    "from sklearn.feature_extraction.text import TfidfVectorizer\n",
    "from joblib import dump\n",
    "import pickle\n",
    "from sklearn.cluster import KMeans,DBSCAN\n",
    "from joblib import dump"
   ]
  },
  {
   "cell_type": "code",
   "execution_count": 56,
   "id": "whole-camel",
   "metadata": {},
   "outputs": [],
   "source": [
    "word_lemitizer=WordNetLemmatizer()\n",
    "Regular_expression_definition_for_html_tags=re.compile('<.*?>')\n",
    "Regular_expression_definition_for_digits=re.compile('\\d+\\s|\\s\\d+|\\s\\d+\\s')\n",
    "english_stop_words=stopwords.words('english')\n",
    "def preprocessing_of_sentence(text):\n",
    "    word_to_be_handled=[\n",
    "    \"not\",\n",
    "    \"no\",\n",
    "    \"very\"\n",
    "    ]\n",
    "    text=Regular_expression_definition_for_html_tags.sub(r\" \",text)\n",
    "    text=Regular_expression_definition_for_digits.sub(r\" \",text)\n",
    "    punctuations = [\".\",\",\",\"!\",\"?\",\"'\",'\"',\":\",\";\",\"*\",\"-\",\"/\",\"+\",\"%\",\"$\",\"#\",\"@\",\"(\",\")\",\"[\",\"]\",\"{\",\"}\"]\n",
    "    for i in punctuations:\n",
    "        text = text.replace(i,\" \")\n",
    "    text=text.lower().split()\n",
    "    text=[word for word in text if word not in english_stop_words and len(word)>1 or word in word_to_be_handled]\n",
    "    text=[word_lemitizer.lemmatize(word) for word in text]\n",
    "    return text"
   ]
  },
  {
   "cell_type": "code",
   "execution_count": 57,
   "id": "prime-newcastle",
   "metadata": {},
   "outputs": [],
   "source": [
    "class_column='Score'\n",
    "review_column='Text'"
   ]
  },
  {
   "cell_type": "code",
   "execution_count": 58,
   "id": "pleasant-chase",
   "metadata": {},
   "outputs": [],
   "source": [
    "class_list=[\"Very Bad\",\"Bad\",\"Average\",\"Good\",\"Awesome\"]"
   ]
  },
  {
   "cell_type": "code",
   "execution_count": 59,
   "id": "developing-inquiry",
   "metadata": {},
   "outputs": [],
   "source": [
    "filename=\"Reviews.csv\""
   ]
  },
  {
   "cell_type": "code",
   "execution_count": 60,
   "id": "surprised-appreciation",
   "metadata": {},
   "outputs": [],
   "source": [
    "Total_Data=pandas.read_csv('../Data/Processed_Data/'+filename)"
   ]
  },
  {
   "cell_type": "code",
   "execution_count": 61,
   "id": "accessible-velvet",
   "metadata": {},
   "outputs": [],
   "source": [
    "Total_Data[class_column]=Total_Data[class_column]-1"
   ]
  },
  {
   "cell_type": "code",
   "execution_count": 62,
   "id": "congressional-satin",
   "metadata": {},
   "outputs": [
    {
     "data": {
      "text/html": [
       "<div>\n",
       "<style scoped>\n",
       "    .dataframe tbody tr th:only-of-type {\n",
       "        vertical-align: middle;\n",
       "    }\n",
       "\n",
       "    .dataframe tbody tr th {\n",
       "        vertical-align: top;\n",
       "    }\n",
       "\n",
       "    .dataframe thead th {\n",
       "        text-align: right;\n",
       "    }\n",
       "</style>\n",
       "<table border=\"1\" class=\"dataframe\">\n",
       "  <thead>\n",
       "    <tr style=\"text-align: right;\">\n",
       "      <th></th>\n",
       "      <th>Text</th>\n",
       "      <th>Score</th>\n",
       "    </tr>\n",
       "  </thead>\n",
       "  <tbody>\n",
       "    <tr>\n",
       "      <th>0</th>\n",
       "      <td>using hour year work great take every day saw ...</td>\n",
       "      <td>4</td>\n",
       "    </tr>\n",
       "    <tr>\n",
       "      <th>1</th>\n",
       "      <td>cosco month sold searched found amazon thank w...</td>\n",
       "      <td>4</td>\n",
       "    </tr>\n",
       "    <tr>\n",
       "      <th>2</th>\n",
       "      <td>huge lavender fan never tried edible drinkable...</td>\n",
       "      <td>4</td>\n",
       "    </tr>\n",
       "    <tr>\n",
       "      <th>3</th>\n",
       "      <td>always fan kashi golean crunch find perfect ba...</td>\n",
       "      <td>4</td>\n",
       "    </tr>\n",
       "    <tr>\n",
       "      <th>4</th>\n",
       "      <td>year old mastiff despite tough appearance bit ...</td>\n",
       "      <td>4</td>\n",
       "    </tr>\n",
       "    <tr>\n",
       "      <th>...</th>\n",
       "      <td>...</td>\n",
       "      <td>...</td>\n",
       "    </tr>\n",
       "    <tr>\n",
       "      <th>24995</th>\n",
       "      <td>since willing try alot new thing thought would...</td>\n",
       "      <td>0</td>\n",
       "    </tr>\n",
       "    <tr>\n",
       "      <th>24996</th>\n",
       "      <td>cat picky eater no interest eating pill pocket...</td>\n",
       "      <td>0</td>\n",
       "    </tr>\n",
       "    <tr>\n",
       "      <th>24997</th>\n",
       "      <td>shocked received shipment rip instant coffee e...</td>\n",
       "      <td>0</td>\n",
       "    </tr>\n",
       "    <tr>\n",
       "      <th>24998</th>\n",
       "      <td>looked forward delicious hot cocoa very disapp...</td>\n",
       "      <td>0</td>\n",
       "    </tr>\n",
       "    <tr>\n",
       "      <th>24999</th>\n",
       "      <td>product hydrogenated vegetable oil first ingre...</td>\n",
       "      <td>0</td>\n",
       "    </tr>\n",
       "  </tbody>\n",
       "</table>\n",
       "<p>25000 rows × 2 columns</p>\n",
       "</div>"
      ],
      "text/plain": [
       "                                                    Text  Score\n",
       "0      using hour year work great take every day saw ...      4\n",
       "1      cosco month sold searched found amazon thank w...      4\n",
       "2      huge lavender fan never tried edible drinkable...      4\n",
       "3      always fan kashi golean crunch find perfect ba...      4\n",
       "4      year old mastiff despite tough appearance bit ...      4\n",
       "...                                                  ...    ...\n",
       "24995  since willing try alot new thing thought would...      0\n",
       "24996  cat picky eater no interest eating pill pocket...      0\n",
       "24997  shocked received shipment rip instant coffee e...      0\n",
       "24998  looked forward delicious hot cocoa very disapp...      0\n",
       "24999  product hydrogenated vegetable oil first ingre...      0\n",
       "\n",
       "[25000 rows x 2 columns]"
      ]
     },
     "execution_count": 62,
     "metadata": {},
     "output_type": "execute_result"
    }
   ],
   "source": [
    "Total_Data"
   ]
  },
  {
   "cell_type": "code",
   "execution_count": null,
   "id": "forty-straight",
   "metadata": {},
   "outputs": [],
   "source": []
  },
  {
   "cell_type": "markdown",
   "id": "underlying-cedar",
   "metadata": {},
   "source": [
    "## Shuffelling and Spliting in features and labels"
   ]
  },
  {
   "cell_type": "code",
   "execution_count": 63,
   "id": "powerful-impact",
   "metadata": {},
   "outputs": [],
   "source": [
    "Total_Data=Total_Data.sample(frac=1)"
   ]
  },
  {
   "cell_type": "code",
   "execution_count": 64,
   "id": "confirmed-eight",
   "metadata": {},
   "outputs": [],
   "source": [
    "total_Features=Total_Data[review_column]\n",
    "total_Labels=Total_Data[class_column]"
   ]
  },
  {
   "cell_type": "markdown",
   "id": "crucial-longer",
   "metadata": {},
   "source": [
    "# Vecorization"
   ]
  },
  {
   "cell_type": "code",
   "execution_count": 65,
   "id": "formed-tutorial",
   "metadata": {},
   "outputs": [],
   "source": [
    "Vectorizer=TfidfVectorizer()"
   ]
  },
  {
   "cell_type": "code",
   "execution_count": 66,
   "id": "decreased-belarus",
   "metadata": {},
   "outputs": [],
   "source": [
    "def vectorize_the_input(data):\n",
    "    return Vectorizer.transform(data)"
   ]
  },
  {
   "cell_type": "code",
   "execution_count": 67,
   "id": "occupied-horizontal",
   "metadata": {},
   "outputs": [],
   "source": [
    "Total_Vector_Data=Vectorizer.fit_transform(total_Features.values.astype('U'))"
   ]
  },
  {
   "cell_type": "code",
   "execution_count": 68,
   "id": "inclusive-institution",
   "metadata": {},
   "outputs": [
    {
     "data": {
      "text/plain": [
       "(25000, 26522)"
      ]
     },
     "execution_count": 68,
     "metadata": {},
     "output_type": "execute_result"
    }
   ],
   "source": [
    "Total_Vector_Data.shape"
   ]
  },
  {
   "cell_type": "code",
   "execution_count": 84,
   "id": "automated-domain",
   "metadata": {},
   "outputs": [],
   "source": [
    "with open(\"../Models/Tockenizer.pickle\",\"wb\") as f:\n",
    "    pickle.dump(Vectorizer,f)"
   ]
  },
  {
   "cell_type": "code",
   "execution_count": 70,
   "id": "grand-internet",
   "metadata": {},
   "outputs": [],
   "source": [
    "training_size=int(len(Total_Data)*0.8)"
   ]
  },
  {
   "cell_type": "code",
   "execution_count": 71,
   "id": "revised-nursing",
   "metadata": {},
   "outputs": [],
   "source": [
    "Training_Vector_Data=Total_Vector_Data[:training_size]\n",
    "Testing_Vector_Data=Total_Vector_Data[training_size:]"
   ]
  },
  {
   "cell_type": "code",
   "execution_count": 72,
   "id": "subject-studio",
   "metadata": {},
   "outputs": [],
   "source": [
    "training_Labels=Total_Data[class_column][:training_size]\n",
    "testing_Labels=Total_Data[class_column][training_size:]"
   ]
  },
  {
   "cell_type": "markdown",
   "id": "noted-thomas",
   "metadata": {},
   "source": [
    "## Input Preparation"
   ]
  },
  {
   "cell_type": "code",
   "execution_count": 91,
   "id": "excellent-discipline",
   "metadata": {},
   "outputs": [
    {
     "name": "stdout",
     "output_type": "stream",
     "text": [
      "['found', 'very', 'bad', 'restaurent']\n"
     ]
    }
   ],
   "source": [
    "input_=\"i have found the very bad restaurent\"\n",
    "input_=preprocessing_of_sentence(input_)\n",
    "print(input_)\n",
    "input_=vectorize_the_input([\" \".join(input_)])"
   ]
  },
  {
   "cell_type": "markdown",
   "id": "flush-drain",
   "metadata": {},
   "source": [
    "# Unsupervised Method"
   ]
  },
  {
   "cell_type": "markdown",
   "id": "insured-handle",
   "metadata": {},
   "source": [
    "## Clustering"
   ]
  },
  {
   "cell_type": "code",
   "execution_count": 74,
   "id": "differential-declaration",
   "metadata": {},
   "outputs": [],
   "source": [
    "kmeans = KMeans(n_clusters=5, random_state=0).fit(Total_Vector_Data)"
   ]
  },
  {
   "cell_type": "code",
   "execution_count": 75,
   "id": "funny-senegal",
   "metadata": {},
   "outputs": [
    {
     "data": {
      "text/plain": [
       "KMeans(n_clusters=5, random_state=0)"
      ]
     },
     "execution_count": 75,
     "metadata": {},
     "output_type": "execute_result"
    }
   ],
   "source": [
    "kmeans"
   ]
  },
  {
   "cell_type": "code",
   "execution_count": 76,
   "id": "contrary-knowing",
   "metadata": {},
   "outputs": [
    {
     "data": {
      "text/plain": [
       "array([[7.55905380e-04, 0.00000000e+00, 0.00000000e+00, ...,\n",
       "        0.00000000e+00, 0.00000000e+00, 0.00000000e+00],\n",
       "       [7.10120470e-04, 3.41696514e-05, 8.67535155e-06, ...,\n",
       "        3.23603060e-05, 0.00000000e+00, 0.00000000e+00],\n",
       "       [2.50047881e-04, 1.16818071e-04, 0.00000000e+00, ...,\n",
       "        0.00000000e+00, 0.00000000e+00, 0.00000000e+00],\n",
       "       [2.30458068e-04, 0.00000000e+00, 0.00000000e+00, ...,\n",
       "        0.00000000e+00, 1.46434927e-04, 0.00000000e+00],\n",
       "       [5.69092561e-04, 1.36882022e-04, 0.00000000e+00, ...,\n",
       "        0.00000000e+00, 0.00000000e+00, 6.34831700e-05]])"
      ]
     },
     "execution_count": 76,
     "metadata": {},
     "output_type": "execute_result"
    }
   ],
   "source": [
    "kmeans.cluster_centers_"
   ]
  },
  {
   "cell_type": "code",
   "execution_count": 77,
   "id": "furnished-allen",
   "metadata": {},
   "outputs": [
    {
     "data": {
      "text/plain": [
       "'Bad'"
      ]
     },
     "execution_count": 77,
     "metadata": {},
     "output_type": "execute_result"
    }
   ],
   "source": [
    "class_list[kmeans.predict(input_)[0]]"
   ]
  },
  {
   "cell_type": "code",
   "execution_count": 94,
   "id": "varying-testament",
   "metadata": {},
   "outputs": [],
   "source": [
    "predictions=kmeans.predict(Testing_Vector_Data)"
   ]
  },
  {
   "cell_type": "code",
   "execution_count": 95,
   "id": "neither-suggestion",
   "metadata": {},
   "outputs": [
    {
     "data": {
      "text/plain": [
       "array([1])"
      ]
     },
     "execution_count": 95,
     "metadata": {},
     "output_type": "execute_result"
    }
   ],
   "source": [
    "kmeans.predict(input_)"
   ]
  },
  {
   "cell_type": "code",
   "execution_count": 83,
   "id": "guilty-palestine",
   "metadata": {},
   "outputs": [
    {
     "data": {
      "text/plain": [
       "['../Models/Model.joblib']"
      ]
     },
     "execution_count": 83,
     "metadata": {},
     "output_type": "execute_result"
    }
   ],
   "source": [
    "# dump(kmeans, '../Models/Model.joblib')"
   ]
  },
  {
   "cell_type": "code",
   "execution_count": null,
   "id": "looking-curtis",
   "metadata": {},
   "outputs": [],
   "source": []
  },
  {
   "cell_type": "markdown",
   "id": "partial-sharp",
   "metadata": {},
   "source": [
    "## DBSCAN"
   ]
  },
  {
   "cell_type": "code",
   "execution_count": 87,
   "id": "requested-driving",
   "metadata": {},
   "outputs": [],
   "source": [
    "dbscan=DBSCAN(min_samples=5000)"
   ]
  },
  {
   "cell_type": "code",
   "execution_count": 88,
   "id": "numerical-gilbert",
   "metadata": {},
   "outputs": [
    {
     "data": {
      "text/plain": [
       "DBSCAN(min_samples=5000)"
      ]
     },
     "execution_count": 88,
     "metadata": {},
     "output_type": "execute_result"
    }
   ],
   "source": [
    "dbscan.fit(Total_Vector_Data)"
   ]
  },
  {
   "cell_type": "code",
   "execution_count": 93,
   "id": "adequate-antigua",
   "metadata": {},
   "outputs": [
    {
     "data": {
      "text/plain": [
       "array([-1], dtype=int64)"
      ]
     },
     "execution_count": 93,
     "metadata": {},
     "output_type": "execute_result"
    }
   ],
   "source": [
    "dbscan.fit_predict(input_)"
   ]
  },
  {
   "cell_type": "code",
   "execution_count": null,
   "id": "respected-aaron",
   "metadata": {},
   "outputs": [],
   "source": []
  }
 ],
 "metadata": {
  "kernelspec": {
   "display_name": "Python 3",
   "language": "python",
   "name": "python3"
  },
  "language_info": {
   "codemirror_mode": {
    "name": "ipython",
    "version": 3
   },
   "file_extension": ".py",
   "mimetype": "text/x-python",
   "name": "python",
   "nbconvert_exporter": "python",
   "pygments_lexer": "ipython3",
   "version": "3.9.2"
  }
 },
 "nbformat": 4,
 "nbformat_minor": 5
}
